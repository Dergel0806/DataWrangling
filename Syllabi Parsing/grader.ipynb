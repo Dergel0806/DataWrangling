{
 "cells": [
  {
   "cell_type": "markdown",
   "metadata": {},
   "source": [
    "Grader should be put into same folder as `.py` files of assignments.  \n",
    "To be used with grader, `.py` script of student should generate a `.csv` file in the same folder as the script itself.  \n",
    "  \n",
    "Csv should not contain index or header (as it is stated so in the assignment). First column should be file name (as it was said so during the class). Index will be cleared automatically.  \n",
    "If the header is included, final grade will be 0, as it goes against the assignment (`csv file that has 100 rows`). (To avoid this, delete or comment the block with corresponding comment in cell 4)."
   ]
  },
  {
   "cell_type": "code",
   "execution_count": null,
   "metadata": {},
   "outputs": [],
   "source": [
    "import glob\n",
    "import pandas as pd\n",
    "import re"
   ]
  },
  {
   "cell_type": "markdown",
   "metadata": {},
   "source": [
    "Define $X$ that is used in `at least X syllabi`.  \n",
    "(As a fraction)."
   ]
  },
  {
   "cell_type": "code",
   "execution_count": null,
   "metadata": {},
   "outputs": [],
   "source": [
    "X = 0.2"
   ]
  },
  {
   "cell_type": "markdown",
   "metadata": {},
   "source": [
    "Run all `.py` files in current directory."
   ]
  },
  {
   "cell_type": "code",
   "execution_count": null,
   "metadata": {
    "scrolled": false
   },
   "outputs": [],
   "source": [
    "for py in glob.glob('./*.py'):\n",
    "    exec(open(py).read())"
   ]
  },
  {
   "cell_type": "markdown",
   "metadata": {},
   "source": [
    "Create a Pandas DataFrame of ratings:"
   ]
  },
  {
   "cell_type": "code",
   "execution_count": null,
   "metadata": {},
   "outputs": [],
   "source": [
    "rowsList = []\n",
    "\n",
    "for csv in glob.glob('./*.csv'):\n",
    "    \n",
    "    features = pd.read_csv(csv)\n",
    "    \n",
    "    fail = 1\n",
    "    \n",
    "#     delete the following block to stop script from giving 0 as a final grade if csv contains not exactly 100 rows\n",
    "# ----------------------\n",
    "    if len(features) != 100:\n",
    "        fail = 0\n",
    "# ----------------------       \n",
    "        \n",
    "#     clear column if it contains indexes\n",
    "    for clmn in features.columns:\n",
    "        if all(features[clmn] == [x for x in range(len(features))]):\n",
    "            features.drop(clmn, axis=1, inplace=True)\n",
    "            \n",
    "#     drop first column that should contain file names  \n",
    "    features.drop(columns=features.columns[0], inplace=True)\n",
    "    \n",
    "    row = {'student': re.findall('\\.\\\\\\\\features-retrieved-by-([a-zA-Z]+)\\.csv', csv)[0], # name of student\n",
    "           'totalFeatures': len(features.columns) - 1} # number of extracted features total\n",
    "    \n",
    "#     if some value is repeated in a column with a frequency of >=10 we assume\n",
    "#         this value was used by student as \"nan\" (or it is too hardcoded to be taken into account)\n",
    "#     10% was chosen here as we will be interested in features that are applied to 90+% of syllabi\n",
    "#         (and so, if the column contains only 5% of \"nan\"s, we can ignore this)\n",
    "    for clmn in features.columns:\n",
    "        if features[clmn].value_counts(normalize=True)[0] >= 0.1:\n",
    "            features.replace(features[clmn].value_counts(normalize=True).index[0], 'nan', inplace=True)\n",
    "    \n",
    "#     calculate percentage of non-nan values for each feature\n",
    "    pcts = []\n",
    "    for clmn in features.columns:\n",
    "        pcts.append(sum(features[clmn].str.lower() != 'nan') / len(features))\n",
    "    \n",
    "#     save them to write to df later\n",
    "    for i, pct in enumerate(pcts):\n",
    "        row['Feature' + ('0' + str(i) if i < 10 else str(i)[0] + str(i)[1])] = pct\n",
    "    \n",
    "    rowsList.append(row)\n",
    "\n",
    "    \n",
    "ratings = pd.DataFrame(rowsList)\n",
    "\n",
    "# number of features that are extracted for at least X syllabi\n",
    "ratings.loc[:,'featuresForAtLeastX'] =(ratings[ratings.columns[:-2]] >= X).sum(axis=1)\n",
    "\n",
    "# grade\n",
    "ratings.loc[:, 'grade'] = fail * ((ratings[ratings.columns[-1]] > 4) * (70 + 10 * (ratings[ratings.columns[-1]] - 5)) \\\n",
    "                            + 5 * (ratings[ratings.columns[:-3]] >= 0.9).sum(axis=1))\n",
    "ratings.loc[:, 'grade'] = ratings.loc[:, 'grade'].apply(lambda x: min(x, 110))\n",
    "\n",
    "# reorder dfcolumns for readability\n",
    "ratings = ratings[ratings.columns.values.tolist()[-4:] + ratings.columns.values.tolist()[:-4]]\n",
    "\n",
    "# sort df by number of features for at least X syllabi and for number of total features if first value match\n",
    "ratings = ratings.sort_values(by=['featuresForAtLeastX', 'totalFeatures'], ascending=False)\n",
    "ratings = ratings.reset_index()\n",
    "ratings = ratings.drop('index', axis=1)"
   ]
  },
  {
   "cell_type": "code",
   "execution_count": null,
   "metadata": {
    "scrolled": true
   },
   "outputs": [],
   "source": [
    "ratings"
   ]
  },
  {
   "cell_type": "code",
   "execution_count": null,
   "metadata": {},
   "outputs": [],
   "source": []
  }
 ],
 "metadata": {
  "kernelspec": {
   "display_name": "Python 3",
   "language": "python",
   "name": "python3"
  },
  "language_info": {
   "codemirror_mode": {
    "name": "ipython",
    "version": 3
   },
   "file_extension": ".py",
   "mimetype": "text/x-python",
   "name": "python",
   "nbconvert_exporter": "python",
   "pygments_lexer": "ipython3",
   "version": "3.7.3"
  }
 },
 "nbformat": 4,
 "nbformat_minor": 2
}
